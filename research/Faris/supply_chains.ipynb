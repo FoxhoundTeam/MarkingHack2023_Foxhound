{
 "cells": [
  {
   "cell_type": "code",
   "execution_count": 2,
   "id": "00b680af-b660-4cd1-90b0-215db45b759a",
   "metadata": {
    "tags": []
   },
   "outputs": [],
   "source": [
    "import numpy as np\n",
    "from csv import DictReader\n",
    "from collections import Counter, defaultdict"
   ]
  },
  {
   "cell_type": "code",
   "execution_count": 3,
   "id": "eda95b24-fdd8-40f7-a664-29130dc59355",
   "metadata": {
    "tags": []
   },
   "outputs": [],
   "source": [
    "            \n",
    "with open('transactions.csv', 'r') as read_obj:\n",
    "            transactions = list(DictReader(read_obj))    \n",
    "        \n",
    "for item in transactions[0:3]:\n",
    "    print(item)"
   ]
  },
  {
   "cell_type": "code",
   "execution_count": 3,
   "id": "41868c5a-1f9c-4521-bcf3-736d0622eabc",
   "metadata": {},
   "outputs": [
    {
     "name": "stdout",
     "output_type": "stream",
     "text": [
      "{'dt': '2021-11-22', 'gtin': '867FDFE9E03925792F329DEDBAA3955F', 'prid': '9246A2BE043136FC4B4A166BB0E25D3E', 'sender_inn': '2E55013259E009F4FC1E5EFCF170EA8B', 'receiver_inn': '8D5F8E7D20AD9A8D0E8EE5769321D8C3', 'cnt_moved': '1'}\n",
      "{'dt': '2021-11-22', 'gtin': '4FB53B945150E362C307D60297066562', 'prid': '9246A2BE043136FC4B4A166BB0E25D3E', 'sender_inn': '32B53198A919C559CB84DC0487947E80', 'receiver_inn': 'EDE6F6D21300D96A9E207EA4F59321EF', 'cnt_moved': '1'}\n",
      "{'dt': '2021-11-22', 'gtin': '38BA9B93C5C987770AD698646D2FAB66', 'prid': '2DADC5DF60A9FC194A3388C1612CC967', 'sender_inn': '3A87113AC25EFD88BD3407ACECFA3869', 'receiver_inn': 'D02A2294DDF3BCF7218D6FEFDB35A906', 'cnt_moved': '1'}\n"
     ]
    }
   ],
   "source": []
  },
  {
   "cell_type": "code",
   "execution_count": 4,
   "id": "a936ed71-b7df-4266-b088-1a3c790f1ed6",
   "metadata": {
    "tags": []
   },
   "outputs": [
    {
     "name": "stdout",
     "output_type": "stream",
     "text": [
      "{'id_sp_': 'C72AC534DBF5E6369840FFE9DA9FF403', 'inn': '0056F9FCFA009E493BEFEAE4FAA71D82', 'region_code': '51', 'city_with_type': '', 'city_fias_id': '', 'postal_code': '184421'}\n",
      "{'id_sp_': '591942644AE25AE4DD26CF943BB97414', 'inn': '81AAC456284F455FC2B141E6E8F1A76C', 'region_code': '66', 'city_with_type': 'г Екатеринбург', 'city_fias_id': '2763c110-cb8b-416a-9dac-ad28a55b4402', 'postal_code': '620027'}\n",
      "{'id_sp_': 'A6E2261F16F84FF09E2B615EDB008943', 'inn': '87C2FDB73C26C96266A0947C2BB714BF', 'region_code': '62', 'city_with_type': 'г Рязань', 'city_fias_id': '86e5bae4-ef58-4031-b34f-5e9ff914cd55', 'postal_code': '390026'}\n",
      "0056F9FCFA009E493BEFEAE4FAA71D82\n",
      "81AAC456284F455FC2B141E6E8F1A76C\n"
     ]
    }
   ],
   "source": [
    "output_inns = []\n",
    "with open('Справочник торговых точек.csv', 'r') as read_obj:\n",
    "    sellpoints = list(DictReader(read_obj)) \n",
    "for sellpoint in sellpoints[0:3]:\n",
    "    print(sellpoint)\n",
    "for sellpoint in sellpoints:\n",
    "    output_inns.append(sellpoint[\"inn\"])\n",
    "\n",
    "for output in output_inns[0:2]:\n",
    "    print(output)"
   ]
  },
  {
   "cell_type": "code",
   "execution_count": 5,
   "id": "105d3ba4-e80d-4edf-bee4-28842ad00d70",
   "metadata": {
    "tags": []
   },
   "outputs": [],
   "source": [
    "gtins = set()\n",
    "\n",
    "for row in transactions:\n",
    "    gtin = row[\"gtin\"]\n",
    "    if gtin not in gtins:\n",
    "        gtins.add(gtin)"
   ]
  },
  {
   "cell_type": "code",
   "execution_count": 6,
   "id": "40794c45-23ea-4881-a303-d3dad73cccfb",
   "metadata": {
    "tags": []
   },
   "outputs": [
    {
     "name": "stdout",
     "output_type": "stream",
     "text": [
      "{'dt': '2021-11-22', 'inn': 'F0C677A146366202906368AF9FCEC188', 'gtin': 'C238E7C33B56BA911F576777316EC9F2', 'prid': 'F0C677A146366202906368AF9FCEC188', 'operation_type': 'Импорт. Не ЕАЭС', 'cnt': '6'}\n",
      "{'dt': '2021-11-22', 'inn': 'F0DC262C40FBA363CFCEF8005E4C6140', 'gtin': '4D3423957ECDC40F70E37EB75A6A2D3E', 'prid': 'F0DC262C40FBA363CFCEF8005E4C6140', 'operation_type': 'Перемаркировка', 'cnt': '10'}\n",
      "F0C677A146366202906368AF9FCEC188\n",
      "F0DC262C40FBA363CFCEF8005E4C6140\n",
      "('37437FE56CA3FE6801B54AEF43A2268F', ['CA50505F8E00F52695C17AA77960E442', '86326BF9D21A23A3E24CCEB6CC8ACD18'])\n",
      "('65E90372D432E06C1A3DA267141157CC', ['00E0FFBF3EC4CC3D21FE721B23A2F4BB', '564DAB2305FF8D09FDCF2EB37ADFC3F7', '00E0FFBF3EC4CC3D21FE721B23A2F4BB', 'FD21B011A92B7AEEA2093D48ED424522', 'FD21B011A92B7AEEA2093D48ED424522'])\n",
      "('C547BCFEB4B5618D65FF2D08B04E8278', ['A2630E906B9179D778C997A8F394CF7A', 'A2630E906B9179D778C997A8F394CF7A', 'A2630E906B9179D778C997A8F394CF7A', 'A2630E906B9179D778C997A8F394CF7A', 'A2630E906B9179D778C997A8F394CF7A', 'A2630E906B9179D778C997A8F394CF7A', 'A2630E906B9179D778C997A8F394CF7A', 'A2630E906B9179D778C997A8F394CF7A', 'A2630E906B9179D778C997A8F394CF7A', 'A2630E906B9179D778C997A8F394CF7A'])\n"
     ]
    }
   ],
   "source": [
    "input_inns = []\n",
    "input_inns_by_gtin = {gtin: [] for gtin in gtins}\n",
    "with open('Данные о вводе товаров в оборот с 2021-11-22 по 2022-11-21.csv', 'r') as read_obj:\n",
    "    inputs = list(DictReader(read_obj))\n",
    "for row in inputs:\n",
    "    input_inns.append(row[\"inn\"])\n",
    "    try:\n",
    "        input_inns_by_gtin[row[\"gtin\"]].append(row[\"inn\"])\n",
    "    except KeyError:\n",
    "        pass\n",
    "for input in inputs[0:2]:\n",
    "    print(input)\n",
    "for input in input_inns[0:2]:\n",
    "    print(input)\n",
    "for item in list(input_inns_by_gtin.items())[0:3]:\n",
    "    print(item)"
   ]
  },
  {
   "cell_type": "code",
   "execution_count": null,
   "id": "f5ad4080-eeae-4d6e-8bf8-ee2ab72c5084",
   "metadata": {
    "tags": []
   },
   "outputs": [
    {
     "name": "stdout",
     "output_type": "stream",
     "text": [
      "\"dt\",\"gtin\",\"prid\",\"inn\",\"id_sp_\",\"type_operation\",\"price\",\"cnt\"\n",
      "\n",
      "2021-11-22,\"5A3E5F7B2D093D1D6CB3CF93BA9AC8A6\",DC7432556B58D454B4E37F0F0D1E663D,B035ED5D308BC70E5EA9342B6DBF5810,\"19485F700068E6A9A8593AFDE9803638\",Продажа конечному потребителю в точке продаж,3500,1\n",
      "\n"
     ]
    }
   ],
   "source": []
  },
  {
   "cell_type": "code",
   "execution_count": 7,
   "id": "8ca22bb4-8b0b-4f97-a125-a457ba143d81",
   "metadata": {
    "tags": []
   },
   "outputs": [],
   "source": [
    "\n",
    "class Graph:\n",
    "  \n",
    "    def __init__(self):\n",
    "        \n",
    "        self.graph = defaultdict(set)\n",
    "        self.paths = []\n",
    "        self.V = set()\n",
    "\n",
    "  \n",
    "    \n",
    "    def addEdge(self, u, v):\n",
    "        self.graph[u].add(v)\n",
    "        self.V.update([u,v])\n",
    "  \n",
    "    def getAllPathsUtil(self, u, visited, path):\n",
    "        visited[u]= True\n",
    "        path.append(u)\n",
    "\n",
    "        if u in output_inns:\n",
    "            self.paths.append(path.copy())\n",
    "            \n",
    "        \n",
    "        for i in self.graph.copy()[u]:\n",
    "            if visited[i]== False:\n",
    "                self.getAllPathsUtil(i, visited, path)\n",
    "\n",
    "  \n",
    "    def getAllPaths(self, gtin):\n",
    " \n",
    "        for v in self.V:\n",
    "            if v in input_inns_by_gtin[gtin]:                \n",
    "                visited = {vortex: False for vortex in self.V}                \n",
    "                path = []                \n",
    "                self.getAllPathsUtil(v, visited, path)\n",
    "        \n",
    "sell_network = Graph()"
   ]
  },
  {
   "cell_type": "code",
   "execution_count": 8,
   "id": "6ce8c239-dc45-43e3-8040-b8936634cb5c",
   "metadata": {
    "tags": []
   },
   "outputs": [],
   "source": [
    "networks = {}\n",
    "gtins = set()\n",
    "for row in transactions:\n",
    "    gtin = row[\"gtin\"]\n",
    "    if gtin not in gtins:\n",
    "        networks[gtin] = {\"network\": Graph(), \"lens\": [], \n",
    "                          \"max_len\": None, \"min_len\": None, \n",
    "                          \"most_common\": None,\n",
    "                          \"least_common\": None}\n",
    "        gtins.add(gtin)"
   ]
  },
  {
   "cell_type": "code",
   "execution_count": 10,
   "id": "587f3fd1-56d2-4027-beb2-bea960ce99bd",
   "metadata": {
    "tags": []
   },
   "outputs": [],
   "source": [
    "for transact in transactions[0:100000]:\n",
    "    networks[transact[\"gtin\"]][\"network\"].addEdge(transact[\"sender_inn\"], transact[\"receiver_inn\"])\n",
    "\n",
    "for gtin, data in networks.items():\n",
    "    network = data[\"network\"]\n",
    "    lens = data[\"lens\"]\n",
    "    if len(network.graph.items())>2:\n",
    "        #print(network.graph.items())\n",
    "        network.getAllPaths(gtin)\n",
    "        for path in network.paths:\n",
    "            lens.append(len(path))\n",
    "            #print(f\"{len(path)}\\n{path}\")\n",
    "for gtin, data in networks.items():\n",
    "    lens = data[\"lens\"]\n",
    "    if lens:\n",
    "        freqdist = Counter(lens)  \n",
    "        data[\"most_common\"] = freqdist.most_common(1)[0]\n",
    "        data[\"least_common\"] = freqdist.most_common()[-1]\n",
    "        data[\"max_len\"] =  lens[np.argmax(lens)]\n",
    "        data[\"min_len\"] =  lens[np.argmin(lens)]\n",
    "        "
   ]
  },
  {
   "cell_type": "code",
   "execution_count": 11,
   "id": "acc1dca2-50b0-449e-ba2b-062539987274",
   "metadata": {},
   "outputs": [
    {
     "name": "stdout",
     "output_type": "stream",
     "text": [
      "Товар: 33C9D09F71D3A4E5BD6085AB192C95AB\n",
      "Обычная длина цепочки: 1 (встречается 63 раз)\n",
      "Аномальная длина цепочки: 30 (встречается 3 раз)\n"
     ]
    }
   ],
   "source": [
    "for gtin, data in networks.items():\n",
    "    if data[\"most_common\"]:\n",
    "        most_common_len, most_common_cnt = data[\"most_common\"]\n",
    "        least_common_len, least_common_cnt = data[\"least_common\"]\n",
    "        if most_common_cnt/least_common_cnt>20:\n",
    "            print(f\"Товар: {gtin}\")\n",
    "            print(f\"Обычная длина цепочки: {most_common_len} (встречается {most_common_cnt} раз)\")\n",
    "            print(f\"Аномальная длина цепочки: {least_common_len} (встречается {least_common_cnt} раз)\")\n",
    "                  "
   ]
  }
 ],
 "metadata": {
  "kernelspec": {
   "display_name": "Python 3 (ipykernel)",
   "language": "python",
   "name": "python3"
  },
  "language_info": {
   "codemirror_mode": {
    "name": "ipython",
    "version": 3
   },
   "file_extension": ".py",
   "mimetype": "text/x-python",
   "name": "python",
   "nbconvert_exporter": "python",
   "pygments_lexer": "ipython3",
   "version": "3.8.10"
  }
 },
 "nbformat": 4,
 "nbformat_minor": 5
}
